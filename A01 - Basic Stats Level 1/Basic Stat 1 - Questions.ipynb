{
 "cells": [
  {
   "cell_type": "markdown",
   "id": "9554a066",
   "metadata": {},
   "source": [
    "Calculate Mean, Median, Mode, Variance, Standard Deviation, Range &     comment about the values / draw inferences, for the given dataset\n",
    "\n",
    "-\tFor Points,Score,Weigh>\n",
    "\n",
    "\n",
    "Find Mean, Median, Mode, Variance, Standard Deviation, and Range \n"
   ]
  },
  {
   "cell_type": "code",
   "execution_count": 2,
   "id": "959ea451",
   "metadata": {},
   "outputs": [],
   "source": [
    "import pandas as pd\n",
    "import numpy as np\n",
    "import scipy.stats as stats"
   ]
  },
  {
   "cell_type": "code",
   "execution_count": 23,
   "id": "4bd146a9",
   "metadata": {},
   "outputs": [
    {
     "data": {
      "text/html": [
       "<div>\n",
       "<style scoped>\n",
       "    .dataframe tbody tr th:only-of-type {\n",
       "        vertical-align: middle;\n",
       "    }\n",
       "\n",
       "    .dataframe tbody tr th {\n",
       "        vertical-align: top;\n",
       "    }\n",
       "\n",
       "    .dataframe thead th {\n",
       "        text-align: right;\n",
       "    }\n",
       "</style>\n",
       "<table border=\"1\" class=\"dataframe\">\n",
       "  <thead>\n",
       "    <tr style=\"text-align: right;\">\n",
       "      <th></th>\n",
       "      <th>Unnamed: 0</th>\n",
       "      <th>Points</th>\n",
       "      <th>Score</th>\n",
       "      <th>Weigh</th>\n",
       "    </tr>\n",
       "  </thead>\n",
       "  <tbody>\n",
       "    <tr>\n",
       "      <th>0</th>\n",
       "      <td>Mazda RX4</td>\n",
       "      <td>3.90</td>\n",
       "      <td>2.620</td>\n",
       "      <td>16.46</td>\n",
       "    </tr>\n",
       "    <tr>\n",
       "      <th>1</th>\n",
       "      <td>Mazda RX4 Wag</td>\n",
       "      <td>3.90</td>\n",
       "      <td>2.875</td>\n",
       "      <td>17.02</td>\n",
       "    </tr>\n",
       "    <tr>\n",
       "      <th>2</th>\n",
       "      <td>Datsun 710</td>\n",
       "      <td>3.85</td>\n",
       "      <td>2.320</td>\n",
       "      <td>18.61</td>\n",
       "    </tr>\n",
       "    <tr>\n",
       "      <th>3</th>\n",
       "      <td>Hornet 4 Drive</td>\n",
       "      <td>3.08</td>\n",
       "      <td>3.215</td>\n",
       "      <td>19.44</td>\n",
       "    </tr>\n",
       "    <tr>\n",
       "      <th>4</th>\n",
       "      <td>Hornet Sportabout</td>\n",
       "      <td>3.15</td>\n",
       "      <td>3.440</td>\n",
       "      <td>17.02</td>\n",
       "    </tr>\n",
       "  </tbody>\n",
       "</table>\n",
       "</div>"
      ],
      "text/plain": [
       "          Unnamed: 0  Points  Score  Weigh\n",
       "0          Mazda RX4    3.90  2.620  16.46\n",
       "1      Mazda RX4 Wag    3.90  2.875  17.02\n",
       "2         Datsun 710    3.85  2.320  18.61\n",
       "3     Hornet 4 Drive    3.08  3.215  19.44\n",
       "4  Hornet Sportabout    3.15  3.440  17.02"
      ]
     },
     "execution_count": 23,
     "metadata": {},
     "output_type": "execute_result"
    }
   ],
   "source": [
    "df = pd.read_csv('Q7.csv')\n",
    "df.head()"
   ]
  },
  {
   "cell_type": "code",
   "execution_count": 20,
   "id": "05273b31",
   "metadata": {},
   "outputs": [
    {
     "name": "stdout",
     "output_type": "stream",
     "text": [
      "Points:\n",
      " Mean: 3.5965625000000006 \n",
      " Median: 3.6950000000000003 \n",
      " Standard deviation: 0.5346787360709716 \n",
      " Variance: 0.28588135080645166 \n",
      " Range: 2.17 \n",
      " Mode: \n",
      " 0    3.07\n",
      "1    3.92\n",
      "dtype: float64\n"
     ]
    }
   ],
   "source": [
    "print('Points:\\n Mean:',df.Points.mean(),'\\n','Median:',df.Points.median(),'\\n',\n",
    "      'Standard deviation:',df.Points.std(),'\\n','Variance:',df.Points.var(),\n",
    "      '\\n','Range:',df.Points.max()-df.Points.min(),'\\n',\n",
    "      'Mode:','\\n',df.Points.mode())\n"
   ]
  },
  {
   "cell_type": "code",
   "execution_count": 19,
   "id": "83868892",
   "metadata": {},
   "outputs": [
    {
     "name": "stdout",
     "output_type": "stream",
     "text": [
      "Score:\n",
      " Mean: 3.2172499999999995 \n",
      " Median: 3.325 \n",
      " Standard deviation: 0.9784574429896967 \n",
      " Variance: 0.9573789677419356 \n",
      " Range: 3.9110000000000005 \n",
      " Mode: \n",
      " 0    3.44\n",
      "dtype: float64\n"
     ]
    }
   ],
   "source": [
    "print('Score:\\n Mean:',df.Score.mean(),'\\n','Median:',df.Score.median(),'\\n',\n",
    "      'Standard deviation:',df.Score.std(),'\\n','Variance:',df.Score.var(),\n",
    "      '\\n','Range:',df.Score.max()-df.Score.min(),'\\n','Mode:','\\n',df.Score.mode(0))\n"
   ]
  },
  {
   "cell_type": "code",
   "execution_count": 22,
   "id": "36ae9aad",
   "metadata": {},
   "outputs": [
    {
     "name": "stdout",
     "output_type": "stream",
     "text": [
      "Weight:\n",
      " Mean: 17.848750000000003 \n",
      " Median: 17.71 \n",
      " Standard deviation: 1.7869432360968431 \n",
      " Variance: 3.193166129032258 \n",
      " Range: 8.399999999999999 \n",
      " Mode: \n",
      " 0    17.02\n",
      "1    18.90\n",
      "dtype: float64\n"
     ]
    }
   ],
   "source": [
    "print('Weight:\\n Mean:',df.Weigh.mean(),'\\n','Median:',df.Weigh.median(),'\\n',\n",
    "      'Standard deviation:',df.Weigh.std(),'\\n','Variance:',df.Weigh.var(),\n",
    "      '\\n','Range:',df.Weigh.max()-df.Weigh.min(),'\\n','Mode:','\\n',df.Weigh.mode(0))\n"
   ]
  },
  {
   "cell_type": "code",
   "execution_count": 26,
   "id": "0a999c3f",
   "metadata": {},
   "outputs": [
    {
     "data": {
      "text/html": [
       "<div>\n",
       "<style scoped>\n",
       "    .dataframe tbody tr th:only-of-type {\n",
       "        vertical-align: middle;\n",
       "    }\n",
       "\n",
       "    .dataframe tbody tr th {\n",
       "        vertical-align: top;\n",
       "    }\n",
       "\n",
       "    .dataframe thead th {\n",
       "        text-align: right;\n",
       "    }\n",
       "</style>\n",
       "<table border=\"1\" class=\"dataframe\">\n",
       "  <thead>\n",
       "    <tr style=\"text-align: right;\">\n",
       "      <th></th>\n",
       "      <th>Index</th>\n",
       "      <th>speed</th>\n",
       "      <th>dist</th>\n",
       "    </tr>\n",
       "  </thead>\n",
       "  <tbody>\n",
       "    <tr>\n",
       "      <th>0</th>\n",
       "      <td>1</td>\n",
       "      <td>4</td>\n",
       "      <td>2</td>\n",
       "    </tr>\n",
       "    <tr>\n",
       "      <th>1</th>\n",
       "      <td>2</td>\n",
       "      <td>4</td>\n",
       "      <td>10</td>\n",
       "    </tr>\n",
       "    <tr>\n",
       "      <th>2</th>\n",
       "      <td>3</td>\n",
       "      <td>7</td>\n",
       "      <td>4</td>\n",
       "    </tr>\n",
       "    <tr>\n",
       "      <th>3</th>\n",
       "      <td>4</td>\n",
       "      <td>7</td>\n",
       "      <td>22</td>\n",
       "    </tr>\n",
       "    <tr>\n",
       "      <th>4</th>\n",
       "      <td>5</td>\n",
       "      <td>8</td>\n",
       "      <td>16</td>\n",
       "    </tr>\n",
       "  </tbody>\n",
       "</table>\n",
       "</div>"
      ],
      "text/plain": [
       "   Index  speed  dist\n",
       "0      1      4     2\n",
       "1      2      4    10\n",
       "2      3      7     4\n",
       "3      4      7    22\n",
       "4      5      8    16"
      ]
     },
     "execution_count": 26,
     "metadata": {},
     "output_type": "execute_result"
    }
   ],
   "source": [
    "cars = pd.read_csv('Q9_a.csv')\n",
    "cars.head()"
   ]
  },
  {
   "cell_type": "code",
   "execution_count": 30,
   "id": "fa5b4d45",
   "metadata": {},
   "outputs": [
    {
     "name": "stdout",
     "output_type": "stream",
     "text": [
      "Cars Speed Skewness: -0.11750986144663393 \n",
      " Cars Speed Kurtosis: -0.5089944204057617\n"
     ]
    }
   ],
   "source": [
    "print('Cars Speed Skewness:',cars.speed.skew(),'\\n','Cars Speed Kurtosis:',cars.speed.kurtosis())"
   ]
  },
  {
   "cell_type": "markdown",
   "id": "07b792f0",
   "metadata": {},
   "source": [
    "#### The skewness and Kurtosis of Speed column, both are negative"
   ]
  },
  {
   "cell_type": "code",
   "execution_count": 32,
   "id": "ff418df6",
   "metadata": {},
   "outputs": [
    {
     "name": "stdout",
     "output_type": "stream",
     "text": [
      "Cars Distance Skewness: 0.8068949601674215 \n",
      " Cars Distance Kurtosis: 0.4050525816795765\n"
     ]
    }
   ],
   "source": [
    "print('Cars Distance Skewness:',cars.dist.skew(),'\\n','Cars Distance Kurtosis:',cars.dist.kurtosis())"
   ]
  },
  {
   "cell_type": "markdown",
   "id": "b5e5283d",
   "metadata": {},
   "source": [
    "#### The skewness and Kurtosis of Distance column, both are Positive"
   ]
  },
  {
   "cell_type": "code",
   "execution_count": 35,
   "id": "2b29eead",
   "metadata": {},
   "outputs": [
    {
     "data": {
      "text/html": [
       "<div>\n",
       "<style scoped>\n",
       "    .dataframe tbody tr th:only-of-type {\n",
       "        vertical-align: middle;\n",
       "    }\n",
       "\n",
       "    .dataframe tbody tr th {\n",
       "        vertical-align: top;\n",
       "    }\n",
       "\n",
       "    .dataframe thead th {\n",
       "        text-align: right;\n",
       "    }\n",
       "</style>\n",
       "<table border=\"1\" class=\"dataframe\">\n",
       "  <thead>\n",
       "    <tr style=\"text-align: right;\">\n",
       "      <th></th>\n",
       "      <th>Unnamed: 0</th>\n",
       "      <th>SP</th>\n",
       "      <th>WT</th>\n",
       "    </tr>\n",
       "  </thead>\n",
       "  <tbody>\n",
       "    <tr>\n",
       "      <th>0</th>\n",
       "      <td>1</td>\n",
       "      <td>104.185353</td>\n",
       "      <td>28.762059</td>\n",
       "    </tr>\n",
       "    <tr>\n",
       "      <th>1</th>\n",
       "      <td>2</td>\n",
       "      <td>105.461264</td>\n",
       "      <td>30.466833</td>\n",
       "    </tr>\n",
       "    <tr>\n",
       "      <th>2</th>\n",
       "      <td>3</td>\n",
       "      <td>105.461264</td>\n",
       "      <td>30.193597</td>\n",
       "    </tr>\n",
       "    <tr>\n",
       "      <th>3</th>\n",
       "      <td>4</td>\n",
       "      <td>113.461264</td>\n",
       "      <td>30.632114</td>\n",
       "    </tr>\n",
       "    <tr>\n",
       "      <th>4</th>\n",
       "      <td>5</td>\n",
       "      <td>104.461264</td>\n",
       "      <td>29.889149</td>\n",
       "    </tr>\n",
       "  </tbody>\n",
       "</table>\n",
       "</div>"
      ],
      "text/plain": [
       "   Unnamed: 0          SP         WT\n",
       "0           1  104.185353  28.762059\n",
       "1           2  105.461264  30.466833\n",
       "2           3  105.461264  30.193597\n",
       "3           4  113.461264  30.632114\n",
       "4           5  104.461264  29.889149"
      ]
     },
     "execution_count": 35,
     "metadata": {},
     "output_type": "execute_result"
    }
   ],
   "source": [
    "data = pd.read_csv('Q9_b.csv')\n",
    "data.head()"
   ]
  },
  {
   "cell_type": "code",
   "execution_count": 37,
   "id": "fd057716",
   "metadata": {},
   "outputs": [
    {
     "name": "stdout",
     "output_type": "stream",
     "text": [
      "SP Skewness: 1.6114501961773586 \n",
      " SP Kurtosis: 2.9773289437871835\n"
     ]
    }
   ],
   "source": [
    "print('SP Skewness:',data.SP.skew(),'\\n','SP Kurtosis:',data.SP.kurtosis())"
   ]
  },
  {
   "cell_type": "markdown",
   "id": "c23cd8a4",
   "metadata": {},
   "source": [
    "#### The skewness and Kurtosis of SP column, both are Positive"
   ]
  },
  {
   "cell_type": "code",
   "execution_count": 38,
   "id": "15ef454c",
   "metadata": {},
   "outputs": [
    {
     "name": "stdout",
     "output_type": "stream",
     "text": [
      "WT Skewness: -0.6147533255357768 \n",
      " WT Kurtosis: 0.9502914910300326\n"
     ]
    }
   ],
   "source": [
    "print('WT Skewness:',data.WT.skew(),'\\n','WT Kurtosis:',data.WT.kurtosis())"
   ]
  },
  {
   "cell_type": "markdown",
   "id": "bf3f93c2",
   "metadata": {},
   "source": [
    "#### There is negative skewness and positive Kurtosis for WT column"
   ]
  },
  {
   "cell_type": "code",
   "execution_count": 41,
   "id": "998ed692",
   "metadata": {},
   "outputs": [
    {
     "name": "stdout",
     "output_type": "stream",
     "text": [
      "94% confidence interval with mean of 200 and sd of 30 from sample of 2000:\n"
     ]
    },
    {
     "data": {
      "text/plain": [
       "(143.54417173267188, 256.4558282673281)"
      ]
     },
     "execution_count": 41,
     "metadata": {},
     "output_type": "execute_result"
    }
   ],
   "source": [
    "#Q11\n",
    "print('94% confidence interval with mean of 200 and sd of 30 from sample of 2000:')\n",
    "stats.t.interval(alpha=0.94, df=2000, loc=200, scale=30) "
   ]
  },
  {
   "cell_type": "code",
   "execution_count": 42,
   "id": "6d898d66",
   "metadata": {},
   "outputs": [
    {
     "name": "stdout",
     "output_type": "stream",
     "text": [
      "96% confidence interval with mean of 200 and sd of 30 from sample of 2000:\n"
     ]
    },
    {
     "data": {
      "text/plain": [
       "(138.34732124381935, 261.65267875618065)"
      ]
     },
     "execution_count": 42,
     "metadata": {},
     "output_type": "execute_result"
    }
   ],
   "source": [
    "#Q11\n",
    "print('96% confidence interval with mean of 200 and sd of 30 from sample of 2000:')\n",
    "stats.t.interval(alpha=0.96, df=2000, loc=200, scale=30) "
   ]
  },
  {
   "cell_type": "code",
   "execution_count": 43,
   "id": "d1ac87c8",
   "metadata": {},
   "outputs": [
    {
     "name": "stdout",
     "output_type": "stream",
     "text": [
      "98% confidence interval with mean of 200 and sd of 30 from sample of 2000:\n"
     ]
    },
    {
     "data": {
      "text/plain": [
       "(130.1535847418068, 269.8464152581932)"
      ]
     },
     "execution_count": 43,
     "metadata": {},
     "output_type": "execute_result"
    }
   ],
   "source": [
    "#Q11\n",
    "print('98% confidence interval with mean of 200 and sd of 30 from sample of 2000:')\n",
    "stats.t.interval(alpha=0.98, df=2000, loc=200, scale=30) "
   ]
  },
  {
   "cell_type": "code",
   "execution_count": 55,
   "id": "281b1380",
   "metadata": {},
   "outputs": [
    {
     "data": {
      "text/plain": [
       "list"
      ]
     },
     "execution_count": 55,
     "metadata": {},
     "output_type": "execute_result"
    }
   ],
   "source": [
    "#Q12\n",
    "marks = [34,36,36,38,38,39,39,40,40,41,41,41,41,42,42,45,49,56]\n",
    "type(marks)"
   ]
  },
  {
   "cell_type": "code",
   "execution_count": 59,
   "id": "7b2230cf",
   "metadata": {},
   "outputs": [
    {
     "name": "stdout",
     "output_type": "stream",
     "text": [
      "Mean: 41.0 \n",
      " Median: 40.5 \n",
      " Variance: 24.11111111111111 \n",
      " Standard Deviation: 4.910306620885412\n"
     ]
    }
   ],
   "source": [
    "print('Mean:',np.mean(marks),'\\n','Median:',np.median(marks),\n",
    "      '\\n','Variance:',np.var(marks),'\\n','Standard Deviation:',np.std(marks))"
   ]
  },
  {
   "cell_type": "markdown",
   "id": "dfab6e37",
   "metadata": {},
   "source": [
    "##### There is variance in the marks of students"
   ]
  },
  {
   "cell_type": "code",
   "execution_count": 60,
   "id": "f6ba8c5d",
   "metadata": {},
   "outputs": [
    {
     "data": {
      "text/html": [
       "<div>\n",
       "<style scoped>\n",
       "    .dataframe tbody tr th:only-of-type {\n",
       "        vertical-align: middle;\n",
       "    }\n",
       "\n",
       "    .dataframe tbody tr th {\n",
       "        vertical-align: top;\n",
       "    }\n",
       "\n",
       "    .dataframe thead th {\n",
       "        text-align: right;\n",
       "    }\n",
       "</style>\n",
       "<table border=\"1\" class=\"dataframe\">\n",
       "  <thead>\n",
       "    <tr style=\"text-align: right;\">\n",
       "      <th></th>\n",
       "      <th>HP</th>\n",
       "      <th>MPG</th>\n",
       "      <th>VOL</th>\n",
       "      <th>SP</th>\n",
       "      <th>WT</th>\n",
       "    </tr>\n",
       "  </thead>\n",
       "  <tbody>\n",
       "    <tr>\n",
       "      <th>0</th>\n",
       "      <td>49</td>\n",
       "      <td>53.700681</td>\n",
       "      <td>89</td>\n",
       "      <td>104.185353</td>\n",
       "      <td>28.762059</td>\n",
       "    </tr>\n",
       "    <tr>\n",
       "      <th>1</th>\n",
       "      <td>55</td>\n",
       "      <td>50.013401</td>\n",
       "      <td>92</td>\n",
       "      <td>105.461264</td>\n",
       "      <td>30.466833</td>\n",
       "    </tr>\n",
       "    <tr>\n",
       "      <th>2</th>\n",
       "      <td>55</td>\n",
       "      <td>50.013401</td>\n",
       "      <td>92</td>\n",
       "      <td>105.461264</td>\n",
       "      <td>30.193597</td>\n",
       "    </tr>\n",
       "    <tr>\n",
       "      <th>3</th>\n",
       "      <td>70</td>\n",
       "      <td>45.696322</td>\n",
       "      <td>92</td>\n",
       "      <td>113.461264</td>\n",
       "      <td>30.632114</td>\n",
       "    </tr>\n",
       "    <tr>\n",
       "      <th>4</th>\n",
       "      <td>53</td>\n",
       "      <td>50.504232</td>\n",
       "      <td>92</td>\n",
       "      <td>104.461264</td>\n",
       "      <td>29.889149</td>\n",
       "    </tr>\n",
       "    <tr>\n",
       "      <th>...</th>\n",
       "      <td>...</td>\n",
       "      <td>...</td>\n",
       "      <td>...</td>\n",
       "      <td>...</td>\n",
       "      <td>...</td>\n",
       "    </tr>\n",
       "    <tr>\n",
       "      <th>76</th>\n",
       "      <td>322</td>\n",
       "      <td>36.900000</td>\n",
       "      <td>50</td>\n",
       "      <td>169.598513</td>\n",
       "      <td>16.132947</td>\n",
       "    </tr>\n",
       "    <tr>\n",
       "      <th>77</th>\n",
       "      <td>238</td>\n",
       "      <td>19.197888</td>\n",
       "      <td>115</td>\n",
       "      <td>150.576579</td>\n",
       "      <td>37.923113</td>\n",
       "    </tr>\n",
       "    <tr>\n",
       "      <th>78</th>\n",
       "      <td>263</td>\n",
       "      <td>34.000000</td>\n",
       "      <td>50</td>\n",
       "      <td>151.598513</td>\n",
       "      <td>15.769625</td>\n",
       "    </tr>\n",
       "    <tr>\n",
       "      <th>79</th>\n",
       "      <td>295</td>\n",
       "      <td>19.833733</td>\n",
       "      <td>119</td>\n",
       "      <td>167.944460</td>\n",
       "      <td>39.423099</td>\n",
       "    </tr>\n",
       "    <tr>\n",
       "      <th>80</th>\n",
       "      <td>236</td>\n",
       "      <td>12.101263</td>\n",
       "      <td>107</td>\n",
       "      <td>139.840817</td>\n",
       "      <td>34.948615</td>\n",
       "    </tr>\n",
       "  </tbody>\n",
       "</table>\n",
       "<p>81 rows × 5 columns</p>\n",
       "</div>"
      ],
      "text/plain": [
       "     HP        MPG  VOL          SP         WT\n",
       "0    49  53.700681   89  104.185353  28.762059\n",
       "1    55  50.013401   92  105.461264  30.466833\n",
       "2    55  50.013401   92  105.461264  30.193597\n",
       "3    70  45.696322   92  113.461264  30.632114\n",
       "4    53  50.504232   92  104.461264  29.889149\n",
       "..  ...        ...  ...         ...        ...\n",
       "76  322  36.900000   50  169.598513  16.132947\n",
       "77  238  19.197888  115  150.576579  37.923113\n",
       "78  263  34.000000   50  151.598513  15.769625\n",
       "79  295  19.833733  119  167.944460  39.423099\n",
       "80  236  12.101263  107  139.840817  34.948615\n",
       "\n",
       "[81 rows x 5 columns]"
      ]
     },
     "execution_count": 60,
     "metadata": {},
     "output_type": "execute_result"
    }
   ],
   "source": [
    "cars_data = pd.read_csv('Cars.csv')\n",
    "cars_data"
   ]
  },
  {
   "cell_type": "code",
   "execution_count": 61,
   "id": "47468bec",
   "metadata": {},
   "outputs": [
    {
     "data": {
      "text/plain": [
       "0.6524060748417295"
      ]
     },
     "execution_count": 61,
     "metadata": {},
     "output_type": "execute_result"
    }
   ],
   "source": [
    "stats.norm.cdf(38,cars_data.MPG.mean(),cars_data.MPG.std())"
   ]
  },
  {
   "cell_type": "code",
   "execution_count": 62,
   "id": "887f6372",
   "metadata": {},
   "outputs": [
    {
     "data": {
      "text/plain": [
       "0.9974534201888031"
      ]
     },
     "execution_count": 62,
     "metadata": {},
     "output_type": "execute_result"
    }
   ],
   "source": [
    "stats.norm.cdf(60,cars_data.MPG.mean(),cars_data.MPG.std())"
   ]
  },
  {
   "cell_type": "code",
   "execution_count": 63,
   "id": "cb31e466",
   "metadata": {},
   "outputs": [
    {
     "data": {
      "text/plain": [
       "0.8988689169682046"
      ]
     },
     "execution_count": 63,
     "metadata": {},
     "output_type": "execute_result"
    }
   ],
   "source": [
    "stats.norm.cdf(50,cars_data.MPG.mean(),cars_data.MPG.std()) - stats.norm.cdf(20,cars_data.MPG.mean(),cars_data.MPG.std())"
   ]
  },
  {
   "cell_type": "code",
   "execution_count": 65,
   "id": "0b9d6359",
   "metadata": {},
   "outputs": [
    {
     "data": {
      "text/plain": [
       "<AxesSubplot:>"
      ]
     },
     "execution_count": 65,
     "metadata": {},
     "output_type": "execute_result"
    },
    {
     "data": {
      "image/png": "[encoded data removed]",
      "text/plain": [
       "<Figure size 432x288 with 1 Axes>"
      ]
     },
     "metadata": {
      "needs_background": "light"
     },
     "output_type": "display_data"
    }
   ],
   "source": [
    "cars_data.MPG.hist()"
   ]
  },
  {
   "cell_type": "code",
   "execution_count": 68,
   "id": "c62d6e84",
   "metadata": {},
   "outputs": [
    {
     "name": "stderr",
     "output_type": "stream",
     "text": [
      "C:\\Users\\admin\\anaconda3\\lib\\site-packages\\seaborn\\_decorators.py:36: FutureWarning: Pass the following variable as a keyword arg: x. From version 0.12, the only valid positional argument will be `data`, and passing other arguments without an explicit keyword will result in an error or misinterpretation.\n",
      "  warnings.warn(\n"
     ]
    },
    {
     "data": {
      "text/plain": [
       "<AxesSubplot:xlabel='MPG'>"
      ]
     },
     "execution_count": 68,
     "metadata": {},
     "output_type": "execute_result"
    },
    {
     "data": {
      "image/png": "[encoded data removed]",
      "text/plain": [
       "<Figure size 432x288 with 1 Axes>"
      ]
     },
     "metadata": {
      "needs_background": "light"
     },
     "output_type": "display_data"
    }
   ],
   "source": [
    "import seaborn as sns\n",
    "sns.boxplot(cars_data.MPG)"
   ]
  },
  {
   "cell_type": "code",
   "execution_count": 69,
   "id": "89e63741",
   "metadata": {},
   "outputs": [
    {
     "data": {
      "text/plain": [
       "array([[<AxesSubplot:title={'center':'Waist'}>,\n",
       "        <AxesSubplot:title={'center':'AT'}>]], dtype=object)"
      ]
     },
     "execution_count": 69,
     "metadata": {},
     "output_type": "execute_result"
    },
    {
     "data": {
      "image/png": "[encoded data removed]",
      "text/plain": [
       "<Figure size 432x288 with 2 Axes>"
      ]
     },
     "metadata": {
      "needs_background": "light"
     },
     "output_type": "display_data"
    }
   ],
   "source": [
    "wcat = pd.read_csv('wc-at.csv')\n",
    "wcat.hist()"
   ]
  },
  {
   "cell_type": "code",
   "execution_count": 5,
   "id": "d1528af5",
   "metadata": {},
   "outputs": [
    {
     "name": "stdout",
     "output_type": "stream",
     "text": [
      "Z score at 90% CI: 1.2815515655446004\n",
      "Z score at 94% CI: 1.5547735945968535\n",
      "Z score at 60% CI: 0.2533471031357997\n"
     ]
    }
   ],
   "source": [
    "#Q22\n",
    "#Calculate the Z scores of  90% confidence interval,94% confidence interval, 60% confidence interval \n",
    "print('Z score at 90% CI:', stats.norm.ppf(0.90))\n",
    "print('Z score at 94% CI:',stats.norm.ppf(0.94))\n",
    "print('Z score at 60% CI:',stats.norm.ppf(0.60))"
   ]
  },
  {
   "cell_type": "code",
   "execution_count": 6,
   "id": "6c1115fa",
   "metadata": {},
   "outputs": [
    {
     "name": "stdout",
     "output_type": "stream",
     "text": [
      "t score at 95% CI: 1.7081407612518986\n",
      "t score at 96% CI: 1.8248284689556018\n",
      "t score at 99% CI: 2.4851071754106413\n"
     ]
    }
   ],
   "source": [
    "#Q23\n",
    "#Calculate the t scores of 95% confidence interval, 96% confidence interval, 99% confidence interval for sample size of 25 \n",
    "print('t score at 95% CI:',stats.t.ppf(0.95,25))\n",
    "print('t score at 96% CI:',stats.t.ppf(0.96,25))\n",
    "print('t score at 99% CI:',stats.t.ppf(0.99,25))"
   ]
  },
  {
   "cell_type": "code",
   "execution_count": 8,
   "id": "1ca9bcf4",
   "metadata": {},
   "outputs": [
    {
     "name": "stdout",
     "output_type": "stream",
     "text": [
      "Probability: 0.3216492583174122\n"
     ]
    }
   ],
   "source": [
    "#Q24\n",
    "#x = mean of the sample of bulbs =  260\n",
    "#mue = population mean = 270\n",
    "#s = standard deviation of the sample = 90\n",
    "#n = number of items in the sample = 18\n",
    "# t score formula t value = -0.471\n",
    "print('Probability:',stats.t.cdf(-0.471,18))"
   ]
  },
  {
   "cell_type": "code",
   "execution_count": null,
   "id": "6c552ffc",
   "metadata": {},
   "outputs": [],
   "source": []
  }
 ],
 "metadata": {
  "kernelspec": {
   "display_name": "Python 3",
   "language": "python",
   "name": "python3"
  },
  "language_info": {
   "codemirror_mode": {
    "name": "ipython",
    "version": 3
   },
   "file_extension": ".py",
   "mimetype": "text/x-python",
   "name": "python",
   "nbconvert_exporter": "python",
   "pygments_lexer": "ipython3",
   "version": "3.8.8"
  }
 },
 "nbformat": 4,
 "nbformat_minor": 5
}
